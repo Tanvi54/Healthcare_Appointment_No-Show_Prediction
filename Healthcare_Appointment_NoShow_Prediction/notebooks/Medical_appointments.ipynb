{
  "nbformat": 4,
  "nbformat_minor": 0,
  "metadata": {
    "colab": {
      "provenance": []
    },
    "kernelspec": {
      "name": "python3",
      "display_name": "Python 3"
    },
    "language_info": {
      "name": "python"
    }
  },
  "cells": [
    {
      "cell_type": "code",
      "execution_count": 1,
      "metadata": {
        "colab": {
          "base_uri": "https://localhost:8080/"
        },
        "id": "LZZ1cjIqAUOS",
        "outputId": "b03681dd-370a-4df6-fdd2-b1925e81dbc0"
      },
      "outputs": [
        {
          "output_type": "stream",
          "name": "stdout",
          "text": [
            "      PatientId  AppointmentID Gender          ScheduledDay  \\\n",
            "0  2.987250e+13        5642903      F  2016-04-29T18:38:08Z   \n",
            "1  5.589978e+14        5642503      M  2016-04-29T16:08:27Z   \n",
            "2  4.262962e+12        5642549      F  2016-04-29T16:19:04Z   \n",
            "3  8.679512e+11        5642828      F  2016-04-29T17:29:31Z   \n",
            "4  8.841186e+12        5642494      F  2016-04-29T16:07:23Z   \n",
            "\n",
            "         AppointmentDay  Age      Neighbourhood  Scholarship  Hipertension  \\\n",
            "0  2016-04-29T00:00:00Z   62    JARDIM DA PENHA            0             1   \n",
            "1  2016-04-29T00:00:00Z   56    JARDIM DA PENHA            0             0   \n",
            "2  2016-04-29T00:00:00Z   62      MATA DA PRAIA            0             0   \n",
            "3  2016-04-29T00:00:00Z    8  PONTAL DE CAMBURI            0             0   \n",
            "4  2016-04-29T00:00:00Z   56    JARDIM DA PENHA            0             1   \n",
            "\n",
            "   Diabetes  Alcoholism  Handcap  SMS_received No-show  \n",
            "0         0           0        0             0      No  \n",
            "1         0           0        0             0      No  \n",
            "2         0           0        0             0      No  \n",
            "3         0           0        0             0      No  \n",
            "4         1           0        0             0      No  \n",
            "              precision    recall  f1-score   support\n",
            "\n",
            "           0       0.80      1.00      0.89     17669\n",
            "           1       0.62      0.02      0.04      4437\n",
            "\n",
            "    accuracy                           0.80     22106\n",
            "   macro avg       0.71      0.51      0.46     22106\n",
            "weighted avg       0.77      0.80      0.72     22106\n",
            "\n",
            "[[17620    49]\n",
            " [ 4356    81]]\n",
            "✅ Model and features saved!\n"
          ]
        }
      ],
      "source": [
        "# no_show_prediction.ipynb\n",
        "\n",
        "import pandas as pd\n",
        "import numpy as np\n",
        "import matplotlib.pyplot as plt\n",
        "import seaborn as sns\n",
        "import joblib\n",
        "from sklearn.model_selection import train_test_split\n",
        "from sklearn.tree import DecisionTreeClassifier\n",
        "from sklearn.metrics import classification_report, confusion_matrix\n",
        "\n",
        "# 1. Load dataset\n",
        "data = \"Medical.csv\"\n",
        "df = pd.read_csv(data)\n",
        "print(df.head())\n",
        "\n",
        "# 2. Data Cleaning\n",
        "df = df.drop_duplicates()\n",
        "df = df.rename(columns={\"No-show\": \"No_show\"})\n",
        "\n",
        "# Convert target: No_show = \"Yes\" → 1, \"No\" → 0\n",
        "df[\"No_show\"] = df[\"No_show\"].map({\"Yes\": 1, \"No\": 0})\n",
        "\n",
        "# Drop irrelevant cols\n",
        "df = df.drop([\"PatientId\", \"AppointmentID\"], axis=1)\n",
        "\n",
        "# Convert date columns\n",
        "df[\"ScheduledDay\"] = pd.to_datetime(df[\"ScheduledDay\"])\n",
        "df[\"AppointmentDay\"] = pd.to_datetime(df[\"AppointmentDay\"])\n",
        "\n",
        "# Feature engineering\n",
        "df[\"WaitingDays\"] = (df[\"AppointmentDay\"] - df[\"ScheduledDay\"]).dt.days\n",
        "df[\"AppointmentWeekDay\"] = df[\"AppointmentDay\"].dt.dayofweek\n",
        "\n",
        "# Drop original datetime cols\n",
        "df = df.drop([\"ScheduledDay\", \"AppointmentDay\"], axis=1)\n",
        "\n",
        "# Handle categorical vars\n",
        "df = pd.get_dummies(df, drop_first=True)\n",
        "\n",
        "# 3. Train-test split\n",
        "X = df.drop(\"No_show\", axis=1)\n",
        "y = df[\"No_show\"]\n",
        "\n",
        "X_train, X_test, y_train, y_test = train_test_split(X, y, test_size=0.2, random_state=42)\n",
        "\n",
        "# 4. Train Decision Tree\n",
        "model = DecisionTreeClassifier(max_depth=6, random_state=42)\n",
        "model.fit(X_train, y_train)\n",
        "\n",
        "# 5. Evaluation\n",
        "y_pred = model.predict(X_test)\n",
        "print(classification_report(y_test, y_pred))\n",
        "print(confusion_matrix(y_test, y_pred))\n",
        "\n",
        "# 6. Save model & columns\n",
        "joblib.dump(model, \"/content/decision_tree_model.pkl\")\n",
        "joblib.dump(list(X.columns), \"/content/model_features.pkl\")\n",
        "\n",
        "print(\"✅ Model and features saved!\")\n"
      ]
    }
  ]
}